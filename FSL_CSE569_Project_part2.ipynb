{
  "nbformat": 4,
  "nbformat_minor": 0,
  "metadata": {
    "colab": {
      "name": "FSL_CSE569_Project.ipynb",
      "version": "0.3.2",
      "provenance": [],
      "collapsed_sections": [],
      "include_colab_link": true
    },
    "kernelspec": {
      "name": "python3",
      "display_name": "Python 3"
    }
  },
  "cells": [
    {
      "cell_type": "markdown",
      "metadata": {
        "id": "view-in-github",
        "colab_type": "text"
      },
      "source": [
        "<a href=\"https://colab.research.google.com/github/Nydhal/Python-Notebooks/blob/master/FSL_CSE569_Project_part2.ipynb\" target=\"_parent\"><img src=\"https://colab.research.google.com/assets/colab-badge.svg\" alt=\"Open In Colab\"/></a>"
      ]
    },
    {
      "cell_type": "code",
      "metadata": {
        "id": "nahpwf5eZ9D7",
        "colab_type": "code",
        "colab": {
          "base_uri": "https://localhost:8080/",
          "height": 36
        },
        "outputId": "f9a57ddd-0404-4cbb-f347-fc52e01dcda1"
      },
      "source": [
        "from keras.datasets import mnist\n",
        "import numpy as np\n",
        "import matplotlib.pyplot as plt\n",
        "import pandas as pd\n",
        "from sklearn.naive_bayes import GaussianNB \n",
        "from sklearn import metrics\n",
        "%matplotlib inline"
      ],
      "execution_count": 2,
      "outputs": [
        {
          "output_type": "stream",
          "text": [
            "Using TensorFlow backend.\n"
          ],
          "name": "stderr"
        }
      ]
    },
    {
      "cell_type": "markdown",
      "metadata": {
        "id": "a2INy4bTLwKs",
        "colab_type": "text"
      },
      "source": [
        "# Project Part 2"
      ]
    },
    {
      "cell_type": "code",
      "metadata": {
        "id": "BbsJFVENiSkV",
        "colab_type": "code",
        "colab": {}
      },
      "source": [
        "# Preparing data to numpy\n",
        "train = train_01.to_numpy()\n",
        "test  = test_01.to_numpy()\n",
        "\n",
        "# List of K neighbors \n",
        "k_list =[1, 3, 5, 7, 9, 11, 13, 15]"
      ],
      "execution_count": 0,
      "outputs": []
    },
    {
      "cell_type": "code",
      "metadata": {
        "id": "3mKz4c-inUhd",
        "colab_type": "code",
        "colab": {
          "base_uri": "https://localhost:8080/",
          "height": 36
        },
        "outputId": "35d941d1-9b16-41a2-9a8b-d079f815af04"
      },
      "source": [
        "# Calculate NxM matrix of distances of N test points to M train points \n",
        "dist = []\n",
        "for test_point in test.T[0:2].T:\n",
        "    dist.append(np.hypot(*(train.T[0:2].T - test_point).T))\n",
        "\n",
        "# Convert resulting list to numpy array\n",
        "dist = np.array(dist)\n",
        "\n",
        "# Print shape of the distance matrix\n",
        "print(dist.shape)"
      ],
      "execution_count": 164,
      "outputs": [
        {
          "output_type": "execute_result",
          "data": {
            "text/plain": [
              "(2115, 12665)"
            ]
          },
          "metadata": {
            "tags": []
          },
          "execution_count": 164
        }
      ]
    },
    {
      "cell_type": "code",
      "metadata": {
        "id": "VEVQ30S47zzj",
        "colab_type": "code",
        "colab": {
          "base_uri": "https://localhost:8080/",
          "height": 319
        },
        "outputId": "f24e3c6f-1563-4e70-f449-27a5b9361544"
      },
      "source": [
        "# For K = 1\n",
        "k = 1\n",
        "# Label predictions list\n",
        "prediction = []\n",
        "\n",
        "\n",
        "for i in range(len(dist)):\n",
        "  prediction.append(\\\n",
        "                    float(\\\n",
        "                          # Get K closest points\n",
        "                          np.take(train,\\\n",
        "                          # Get indices of smallest distance k elements \n",
        "                          np.argpartition(dist[i], k)[:k], axis=0)\\\n",
        "                          # Get Labels of K closest points\n",
        "                          .T[2]\\\n",
        "                          # Calculate mean of the labels\n",
        "                          .mean()\\\n",
        "                          # Convert to boolean (if the mean > 0.5 then #1 > #0)\n",
        "                          > 0.5))\n",
        "\n",
        "  \n",
        "results = pd.DataFrame({'Label': test.T[2], 'Predict': prediction})\n",
        "\n",
        "# Assign integer value 0,1 to correctness of prediction\n",
        "results['Correct'] = np.where(results['Label']==results['Predict'], 1, 0)\n",
        "\n",
        "# Mean of correct prediciotn is the accuracy\n",
        "acc = results['Correct'].mean()\n",
        "\n",
        "print('K: '+str(k)+'\\tAccuracy: '+str(acc))  \n",
        "results.describe()"
      ],
      "execution_count": 215,
      "outputs": [
        {
          "output_type": "stream",
          "text": [
            "K: 1\tAccuracy: 0.9702127659574468\n"
          ],
          "name": "stdout"
        },
        {
          "output_type": "execute_result",
          "data": {
            "text/html": [
              "<div>\n",
              "<style scoped>\n",
              "    .dataframe tbody tr th:only-of-type {\n",
              "        vertical-align: middle;\n",
              "    }\n",
              "\n",
              "    .dataframe tbody tr th {\n",
              "        vertical-align: top;\n",
              "    }\n",
              "\n",
              "    .dataframe thead th {\n",
              "        text-align: right;\n",
              "    }\n",
              "</style>\n",
              "<table border=\"1\" class=\"dataframe\">\n",
              "  <thead>\n",
              "    <tr style=\"text-align: right;\">\n",
              "      <th></th>\n",
              "      <th>Label</th>\n",
              "      <th>Predict</th>\n",
              "      <th>Correct</th>\n",
              "    </tr>\n",
              "  </thead>\n",
              "  <tbody>\n",
              "    <tr>\n",
              "      <th>count</th>\n",
              "      <td>2115.000000</td>\n",
              "      <td>2115.000000</td>\n",
              "      <td>2115.000000</td>\n",
              "    </tr>\n",
              "    <tr>\n",
              "      <th>mean</th>\n",
              "      <td>0.536643</td>\n",
              "      <td>0.533333</td>\n",
              "      <td>0.970213</td>\n",
              "    </tr>\n",
              "    <tr>\n",
              "      <th>std</th>\n",
              "      <td>0.498773</td>\n",
              "      <td>0.499006</td>\n",
              "      <td>0.170040</td>\n",
              "    </tr>\n",
              "    <tr>\n",
              "      <th>min</th>\n",
              "      <td>0.000000</td>\n",
              "      <td>0.000000</td>\n",
              "      <td>0.000000</td>\n",
              "    </tr>\n",
              "    <tr>\n",
              "      <th>25%</th>\n",
              "      <td>0.000000</td>\n",
              "      <td>0.000000</td>\n",
              "      <td>1.000000</td>\n",
              "    </tr>\n",
              "    <tr>\n",
              "      <th>50%</th>\n",
              "      <td>1.000000</td>\n",
              "      <td>1.000000</td>\n",
              "      <td>1.000000</td>\n",
              "    </tr>\n",
              "    <tr>\n",
              "      <th>75%</th>\n",
              "      <td>1.000000</td>\n",
              "      <td>1.000000</td>\n",
              "      <td>1.000000</td>\n",
              "    </tr>\n",
              "    <tr>\n",
              "      <th>max</th>\n",
              "      <td>1.000000</td>\n",
              "      <td>1.000000</td>\n",
              "      <td>1.000000</td>\n",
              "    </tr>\n",
              "  </tbody>\n",
              "</table>\n",
              "</div>"
            ],
            "text/plain": [
              "             Label      Predict      Correct\n",
              "count  2115.000000  2115.000000  2115.000000\n",
              "mean      0.536643     0.533333     0.970213\n",
              "std       0.498773     0.499006     0.170040\n",
              "min       0.000000     0.000000     0.000000\n",
              "25%       0.000000     0.000000     1.000000\n",
              "50%       1.000000     1.000000     1.000000\n",
              "75%       1.000000     1.000000     1.000000\n",
              "max       1.000000     1.000000     1.000000"
            ]
          },
          "metadata": {
            "tags": []
          },
          "execution_count": 215
        }
      ]
    },
    {
      "cell_type": "code",
      "metadata": {
        "id": "HfijK18pnaj6",
        "colab_type": "code",
        "colab": {}
      },
      "source": [
        "#  Repeat Experiment for all K\n",
        "\n",
        "accuracy_table = []\n",
        "for k in k_list:\n",
        "  prediction = []\n",
        "  for i in range(len(dist)):\n",
        "    prediction.append(float(np.take(train, np.argpartition(dist[i], k)[:k], axis=0).T[2].mean() > 0.5))\n",
        "\n",
        "  KNN_results = pd.DataFrame({'True Label': test.T[2], 'Prediction': prediction})\n",
        "  KNN_results['Correct'] = np.where(KNN_results['True Label']==KNN_results['Prediction'], 1, 0)\n",
        "\n",
        "  acc = KNN_results['Correct'].mean()\n",
        "  \n",
        "  accuracy_table.append([k,acc])"
      ],
      "execution_count": 0,
      "outputs": []
    },
    {
      "cell_type": "code",
      "metadata": {
        "id": "CCi9azkIxFG7",
        "colab_type": "code",
        "colab": {
          "base_uri": "https://localhost:8080/",
          "height": 295
        },
        "outputId": "3ae4784b-f1b0-47f5-9e15-3c2d53eaf7b2"
      },
      "source": [
        "table = np.array(accuracy_table).T\n",
        "plt.plot(table[0],table[1],'--ro')\n",
        "plt.xlabel('Value of K')\n",
        "plt.ylabel('Accuracy of KNN Model')\n",
        "plt.title('Accuracy as number of neighbors increses')\n",
        "plt.show()"
      ],
      "execution_count": 217,
      "outputs": [
        {
          "output_type": "display_data",
          "data": {
            "image/png": "[encoded data removed]",
            "text/plain": [
              "<Figure size 432x288 with 1 Axes>"
            ]
          },
          "metadata": {
            "tags": []
          }
        }
      ]
    }
  ]
}
