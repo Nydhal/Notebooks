{
 "cells": [
  {
   "cell_type": "markdown",
   "metadata": {},
   "source": [
    "# 1/2 Asynchronous FizzBuzz in Python"
   ]
  },
  {
   "cell_type": "markdown",
   "metadata": {},
   "source": [
    "# THE CODE\n",
    "Since this is a notebook we get the error.\n",
    "RuntimeError: This event loop is already running"
   ]
  },
  {
   "cell_type": "code",
   "execution_count": null,
   "metadata": {},
   "outputs": [],
   "source": [
    "import asyncio \n",
    "\n",
    "async def FizzBuzz(i: int):\n",
    "    await asyncio.sleep(i)\n",
    "    print(\"Fizz\"*(i%3==0)+\"Buzz\"*(i%5==0) or i)\n",
    "\n",
    "async def SleepFizzBuzz(l,loop):\n",
    "    tasks = [loop.create_task(FizzBuzz(i)) for i in range(1,l+1)]\n",
    "    for t in tasks:\n",
    "        await t\n",
    "\n",
    "async def main(loop):\n",
    "    await SleepFizzBuzz(30,loop)\n",
    "\n",
    "if __name__ == '__main__':\n",
    "    loop = asyncio.get_event_loop()\n",
    "    loop.run_until_complete(main(loop))"
   ]
  },
  {
   "cell_type": "markdown",
   "metadata": {},
   "source": [
    "## Solution to Tim Hopper challenge:"
   ]
  },
  {
   "cell_type": "code",
   "execution_count": 1,
   "metadata": {},
   "outputs": [
    {
     "data": {
      "text/html": [
       "<blockquote class=\"twitter-tweet\" data-conversation=\"none\"><p lang=\"en\" dir=\"ltr\">Student Exercise:<br><br>Implement SleepFizzBuzz</p>&mdash; Tim Hopper 🦍 (@tdhopper) <a href=\"https://twitter.com/tdhopper/status/1108387299639902216?ref_src=twsrc%5Etfw\">March 20, 2019</a></blockquote>\n",
       "<script async src=\"https://platform.twitter.com/widgets.js\" charset=\"utf-8\"></script>\n"
      ],
      "text/plain": [
       "<__main__.Tweet at 0x28e623806d8>"
      ]
     },
     "execution_count": 1,
     "metadata": {},
     "output_type": "execute_result"
    }
   ],
   "source": [
    "import requests as rq\n",
    "\n",
    "class Tweet(object):\n",
    "    def __init__(self, s, embed_str=False):\n",
    "        if not embed_str:\n",
    "            #Twitter oEmbed API https://dev.twitter.com/web/embedded-tweets\n",
    "            api = '/oembed?url={}&hide_thread=true'.format(s)\n",
    "            self.text = rq.get('https://publish.twitter.com'+api).json()[\"html\"]\n",
    "        else:\n",
    "            self.text = s\n",
    "    def _repr_html_(self):\n",
    "        return self.text\n",
    "\n",
    "Tweet(\"https://twitter.com/tdhopper/status/1108387299639902216\")"
   ]
  },
  {
   "cell_type": "markdown",
   "metadata": {},
   "source": [
    "###### Background\n",
    "https://twitter.com/tdhopper \n",
    "![https://twitter.com/tdhopper](https://pbs.twimg.com/media/D2G9CO2WwAAWsFc.jpg \"Tim hopper asyncio sort https://twitter.com/tdhopper\")"
   ]
  }
 ],
 "metadata": {
  "kernelspec": {
   "display_name": "Python 3",
   "language": "python",
   "name": "python3"
  },
  "language_info": {
   "codemirror_mode": {
    "name": "ipython",
    "version": 3
   },
   "file_extension": ".py",
   "mimetype": "text/x-python",
   "name": "python",
   "nbconvert_exporter": "python",
   "pygments_lexer": "ipython3",
   "version": "3.7.0"
  }
 },
 "nbformat": 4,
 "nbformat_minor": 2
}
