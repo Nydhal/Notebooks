{
  "nbformat": 4,
  "nbformat_minor": 0,
  "metadata": {
    "colab": {
      "name": "SML_Project.ipynb",
      "provenance": [],
      "collapsed_sections": [],
      "include_colab_link": true
    },
    "kernelspec": {
      "name": "python3",
      "display_name": "Python 3"
    }
  },
  "cells": [
    {
      "cell_type": "markdown",
      "metadata": {
        "id": "view-in-github",
        "colab_type": "text"
      },
      "source": [
        "<a href=\"https://colab.research.google.com/github/Nydhal/Python-Notebooks/blob/master/SML_Project.ipynb\" target=\"_parent\"><img src=\"https://colab.research.google.com/assets/colab-badge.svg\" alt=\"Open In Colab\"/></a>"
      ]
    },
    {
      "cell_type": "markdown",
      "metadata": {
        "id": "HhQkSq6nPfUN",
        "colab_type": "text"
      },
      "source": [
        "##**Fabiano**"
      ]
    },
    {
      "cell_type": "code",
      "metadata": {
        "id": "mqCcw_F_NAjv",
        "colab_type": "code",
        "outputId": "21ab9db8-baae-4926-df88-e88eaab5dbc3",
        "colab": {
          "base_uri": "https://localhost:8080/",
          "height": 35
        }
      },
      "source": [
        "#fabiano\n",
        "class Author:\n",
        "  def __init__(self, authorName, authorAffiliation):\n",
        "    self.authorName = authorName\n",
        "    self.authorAffiliation = authorAffiliation\n",
        "\n",
        "class Paper:\n",
        "  def __init__(self, paperTitle, author):\n",
        "    self.paperTitle = paperTitle\n",
        "    self.author = author\n",
        "\n",
        "#fabiano\n",
        "author = Author(\"fabiano\", \"asu\")\n",
        "paper = Paper(\"my paper\", author)\n",
        "\n",
        "print(paper.paperTitle)\n",
        "print(paper.author.authorName)\n",
        "print(paper.author.authorAffiliation)"
      ],
      "execution_count": 0,
      "outputs": [
        {
          "output_type": "stream",
          "text": [
            "2\n"
          ],
          "name": "stdout"
        }
      ]
    },
    {
      "cell_type": "markdown",
      "metadata": {
        "id": "zFiIrTWKPh3l",
        "colab_type": "text"
      },
      "source": [
        "##**Nidhal**"
      ]
    },
    {
      "cell_type": "code",
      "metadata": {
        "id": "9wYxtbKSNVOg",
        "colab_type": "code",
        "colab": {}
      },
      "source": [
        ""
      ],
      "execution_count": 0,
      "outputs": []
    },
    {
      "cell_type": "markdown",
      "metadata": {
        "id": "m50zuTZnPmJu",
        "colab_type": "text"
      },
      "source": [
        "##Haseeb"
      ]
    },
    {
      "cell_type": "code",
      "metadata": {
        "id": "zaCJX9IONVuH",
        "colab_type": "code",
        "colab": {}
      },
      "source": [
        ""
      ],
      "execution_count": 0,
      "outputs": []
    },
    {
      "cell_type": "markdown",
      "metadata": {
        "id": "IZqyI2FyPmgV",
        "colab_type": "text"
      },
      "source": [
        "##**Tanishka**"
      ]
    },
    {
      "cell_type": "code",
      "metadata": {
        "id": "EuIF8uJMPn9l",
        "colab_type": "code",
        "colab": {}
      },
      "source": [
        ""
      ],
      "execution_count": 0,
      "outputs": []
    },
    {
      "cell_type": "markdown",
      "metadata": {
        "id": "4rjHrYwMPmkV",
        "colab_type": "text"
      },
      "source": [
        "##**Abhaas**"
      ]
    },
    {
      "cell_type": "code",
      "metadata": {
        "id": "wPt3gVs6PoiF",
        "colab_type": "code",
        "colab": {}
      },
      "source": [
        ""
      ],
      "execution_count": 0,
      "outputs": []
    }
  ]
}