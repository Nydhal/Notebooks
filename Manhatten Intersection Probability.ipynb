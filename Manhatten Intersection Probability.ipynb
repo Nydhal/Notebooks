{
 "cells": [
  {
   "cell_type": "markdown",
   "metadata": {},
   "source": [
    "![https://www.cut-the-knot.org/Probability/GettingFromAtoB.jpg](https://raw.githubusercontent.com/Nydhal/Python-Notebooks/master/images/manhatten.jpg)"
   ]
  },
  {
   "cell_type": "markdown",
   "metadata": {},
   "source": [
    "Source: The late Alexander Bogomolny https://www.cut-the-knot.org/Probability/GettingFromAtoB.shtml\n",
    "\n",
    "### Problem represnetation :\n",
    "- Enter destination coordinates B(X,Y) and intercept point C(x,y)\n",
    "(By definition input should obey X >=x and Y>=y)\n",
    "\n",
    "#### Solution using pascal triangle"
   ]
  },
  {
   "cell_type": "code",
   "execution_count": 12,
   "metadata": {},
   "outputs": [],
   "source": [
    "from sympy import binomial as b\n",
    "\n",
    "def getA2B(X,Y,x,y):\n",
    "    U,D,s = X==x,Y==y,x+y\n",
    "    u = sum([b(s,i) for i in range(0,y)])\n",
    "    d = sum([b(s,i) for i in range(y+1,s+1)])\n",
    "    r = u*U+b(s,y)+D*d\n",
    "    return r/2**s"
   ]
  },
  {
   "cell_type": "markdown",
   "metadata": {},
   "source": [
    "### Example:\n",
    "If C is going from (0,0) to (3,4) what are the chances of intercepting it at point (3,3)\n",
    "\n",
    "|  - |  -  | -   | -   |  -  | - \n",
    "| -  | --- |-----|-----|-----|--- |\n",
    "| -  |(0,4)|(1,4)|(2,4)|(3,4)|    |\n",
    "| -  |(0,3)|(1,3)|(2,3)|**(3,3)**| → C|\n",
    "| -  |(0,2)|(1,2)|(2,2)|(3,2)|    |\n",
    "| -  |(0,1)|(1,1)|(2,1)|(3,1)|    |\n",
    "| A →|(0,0)|(1,0)|(2,0)|(3,0)|    |\n",
    "            "
   ]
  },
  {
   "cell_type": "code",
   "execution_count": 11,
   "metadata": {},
   "outputs": [
    {
     "name": "stdout",
     "output_type": "stream",
     "text": [
      "B(3,4) C(3,3) =>  21/32\n"
     ]
    }
   ],
   "source": [
    "print('B(3,4) C(3,3) => ',getA2B(3,4,3,3))"
   ]
  },
  {
   "cell_type": "markdown",
   "metadata": {},
   "source": [
    "### Discussion\n",
    "Insight by Daren Chapin:\n",
    "Key observation is that Pascal's triangle -- the number of ways to reach the intersection -- continues beyond the Eastern edge; everything that crosses that edge also gets to C. So, $$\\displaystyle \\frac{20+15+6+1}{2^6} = \\frac{21}{32} = 0.65625.$$\n",
    "![](https://www.cut-the-knot.org/Probability/GettingFromAtoB6.jpg)"
   ]
  }
 ],
 "metadata": {
  "kernelspec": {
   "display_name": "Python 3",
   "language": "python",
   "name": "python3"
  },
  "language_info": {
   "codemirror_mode": {
    "name": "ipython",
    "version": 3
   },
   "file_extension": ".py",
   "mimetype": "text/x-python",
   "name": "python",
   "nbconvert_exporter": "python",
   "pygments_lexer": "ipython3",
   "version": "3.7.0"
  }
 },
 "nbformat": 4,
 "nbformat_minor": 2
}
